{
 "cells": [
  {
   "cell_type": "markdown",
   "metadata": {},
   "source": [
    "# Numpy Exercise 5\n",
    "\n",
    "### All of the questions in this exercise are attributed to rougier/numpy-100"
   ]
  },
  {
   "cell_type": "code",
   "execution_count": 1,
   "metadata": {},
   "outputs": [],
   "source": [
    "import numpy as np"
   ]
  },
  {
   "cell_type": "markdown",
   "metadata": {},
   "source": [
    "#### 61. Find the nearest value from a given value in an array (★★☆)"
   ]
  },
  {
   "cell_type": "code",
   "execution_count": 24,
   "metadata": {},
   "outputs": [
    {
     "name": "stdout",
     "output_type": "stream",
     "text": [
      "The nearest value to 7 in the array is: 5\n"
     ]
    }
   ],
   "source": [
    "\n",
    "\n",
    "def nearest_value(given_value, array):\n",
    "    array = np.array(array)\n",
    "    idx = (np.abs(array - given_value)).argmin()\n",
    "    value = array[idx]\n",
    "    return value\n",
    "\n",
    "given_value = 7\n",
    "array = [3, 5, 10, 13, 19]\n",
    "myValue = nearest_value(given_value, array)\n",
    "print(\"The nearest value to\", given_value, \"in the array is:\", myValue)\n"
   ]
  },
  {
   "cell_type": "markdown",
   "metadata": {},
   "source": [
    "#### 62. Considering two arrays with shape (1,3) and (3,1), how to compute their sum using an iterator? (★★☆)"
   ]
  },
  {
   "cell_type": "code",
   "execution_count": 13,
   "metadata": {},
   "outputs": [
    {
     "name": "stdout",
     "output_type": "stream",
     "text": [
      "Sum of the two arrays: [15 30 45]\n"
     ]
    }
   ],
   "source": [
    "def sum_with_iterator(array1, array2):\n",
    "    if array1.shape != (1, 3) or array2.shape != (3, 1):\n",
    "        raise ValueError(\"Input arrays must have shapes (1, 3) and (3, 1) respectively.\")\n",
    "    \n",
    "    result = 0\n",
    "    for row in array1:\n",
    "        for col in array2:\n",
    "            result += row * col\n",
    "\n",
    "    return result\n",
    "\n",
    "\n",
    "array1 = np.array([[1, 2, 3]])\n",
    "array2 = np.array([[4], [5], [6]])\n",
    "sum_result = sum_with_iterator(array1, array2)\n",
    "print(\"Sum of the two arrays:\", sum_result)"
   ]
  },
  {
   "cell_type": "markdown",
   "metadata": {},
   "source": [
    "#### 63. Create an array class that has a name attribute (★★☆)"
   ]
  },
  {
   "cell_type": "code",
   "execution_count": 31,
   "metadata": {},
   "outputs": [
    {
     "name": "stdout",
     "output_type": "stream",
     "text": [
      "[1 2 3 4 5]\n",
      "Name of the array: Array Name\n"
     ]
    }
   ],
   "source": [
    "\n",
    "\n",
    "class NamedArray(np.ndarray):\n",
    "    def __new__(cls, input_array, name=None):\n",
    "        obj = np.asarray(input_array).view(cls)\n",
    "        obj.name = name\n",
    "        return obj\n",
    "\n",
    "\n",
    "data = [1, 2, 3, 4, 5]\n",
    "name = \"Array Name\"\n",
    "my_array = NamedArray(data, name=name)\n",
    "\n",
    "print(my_array)\n",
    "print(\"Name of the array:\", my_array.name)\n"
   ]
  },
  {
   "cell_type": "markdown",
   "metadata": {},
   "source": [
    "#### 64. Consider a given vector, how to add 1 to each element indexed by a second vector (be careful with repeated indices)? (★★★)"
   ]
  },
  {
   "cell_type": "code",
   "execution_count": 32,
   "metadata": {},
   "outputs": [
    {
     "name": "stdout",
     "output_type": "stream",
     "text": [
      "Original Vector: [10 20 30 40 50]\n",
      "Result Vector: [11 21 30 42 51]\n"
     ]
    }
   ],
   "source": [
    "\n",
    "def add_one_at_indices(original_vector, indices_to_add_one):\n",
    "    unique_indices, counts = np.unique(indices_to_add_one, return_counts=True)\n",
    "\n",
    "    result_vector = np.copy(original_vector)\n",
    "    result_vector[unique_indices] += counts\n",
    "\n",
    "    return result_vector\n",
    "\n",
    "given_vector = np.array([10, 20, 30, 40, 50])\n",
    "indices_to_add_one = np.array([0, 1, 3, 3, 4])\n",
    "\n",
    "result_vector = add_one_at_indices(given_vector, indices_to_add_one)\n",
    "print(\"Original Vector:\", given_vector)\n",
    "print(\"Result Vector:\", result_vector)\n"
   ]
  },
  {
   "cell_type": "markdown",
   "metadata": {},
   "source": [
    "#### 65. How to accumulate elements of a vector (X) to an array (F) based on an index list (I)? (★★★)"
   ]
  },
  {
   "cell_type": "code",
   "execution_count": 33,
   "metadata": {},
   "outputs": [
    {
     "name": "stdout",
     "output_type": "stream",
     "text": [
      "X: [1 2 3 4 5]\n",
      "F: [1 2 0 7 5]\n"
     ]
    }
   ],
   "source": [
    "\n",
    "\n",
    "def accumulate_by_indices(X, I, F):\n",
    "    np.add.at(F, I, X)\n",
    "\n",
    "X = np.array([1, 2, 3, 4, 5])\n",
    "I = np.array([0, 1, 3, 3, 4])\n",
    "F = np.zeros(5, dtype=np.int32)\n",
    "\n",
    "accumulate_by_indices(X, I, F)\n",
    "\n",
    "print(\"X:\", X)\n",
    "print(\"F:\", F)\n"
   ]
  },
  {
   "cell_type": "markdown",
   "metadata": {},
   "source": [
    "#### 66. Considering a (w,h,3) image of (dtype=ubyte), compute the number of unique colors (★★☆)"
   ]
  },
  {
   "cell_type": "code",
   "execution_count": 45,
   "metadata": {},
   "outputs": [
    {
     "name": "stdout",
     "output_type": "stream",
     "text": [
      "Number of unique colors in the image: 241\n"
     ]
    }
   ],
   "source": [
    "def count_unique_colors(image):\n",
    "\n",
    "\n",
    "  flattened_image = image.reshape(-1, 3)\n",
    "  unique_colors = np.unique(flattened_image)\n",
    "  return len(unique_colors)\n",
    "\n",
    "if __name__ == \"__main__\":\n",
    "  image = np.random.randint(0, 255, (16, 16, 3)).astype(np.ubyte)\n",
    "  number_of_unique_colors = count_unique_colors(image)\n",
    "  print(\"Number of unique colors in the image:\", number_of_unique_colors)"
   ]
  },
  {
   "cell_type": "markdown",
   "metadata": {},
   "source": [
    "#### 67. Considering a four dimensions array, how to get sum over the last two axis at once? (★★★)"
   ]
  },
  {
   "cell_type": "code",
   "execution_count": 46,
   "metadata": {},
   "outputs": [
    {
     "name": "stdout",
     "output_type": "stream",
     "text": [
      "Sum of array:  [[6915 8632 7283 8403 8512 8063 8547 9027 7566 8019 8584 7391 8064 8768\n",
      "  7969 8512]\n",
      " [8343 8062 8571 7523 7918 8127 7875 8474 8356 7380 7967 8101 8496 8242\n",
      "  7869 7691]\n",
      " [8276 6912 8679 8550 7972 6963 8596 8254 8749 7227 8316 8547 7969 9129\n",
      "  8129 8324]\n",
      " [8493 7441 8835 7612 8003 7128 7588 8635 8434 8609 7430 8650 7200 8379\n",
      "  8741 7817]\n",
      " [8198 8789 8501 8113 7981 8486 8028 7641 8876 7891 8480 8198 8360 7811\n",
      "  6789 8324]\n",
      " [8709 7899 8433 7213 8601 9006 8541 8361 8543 7034 7837 7967 7844 8737\n",
      "  7743 7323]\n",
      " [8598 8733 7558 8947 8222 6443 8245 7602 7834 8554 8213 8104 7990 9646\n",
      "  8326 8107]\n",
      " [6740 8625 9110 8010 8447 7843 7979 8132 8301 8751 8136 8617 7862 8753\n",
      "  7548 9724]\n",
      " [7682 8212 7563 8166 9143 8174 8290 8419 8749 8684 8245 7021 8146 8143\n",
      "  9080 8500]\n",
      " [8774 8482 8416 8187 7883 8385 7892 8126 9067 8620 7725 8715 7016 8340\n",
      "  8204 7694]\n",
      " [7969 8396 9080 8095 8512 7811 9529 9067 7943 8736 8247 8240 8170 8051\n",
      "  8167 7906]\n",
      " [7190 8654 8922 8107 7932 8679 8404 7646 7965 8229 7371 7678 8430 8058\n",
      "  8417 7011]\n",
      " [9334 7561 8886 6810 7814 7770 7324 7956 8016 8459 8751 8545 8250 8084\n",
      "  7762 7713]\n",
      " [9237 8902 8693 8292 9472 8445 8889 8077 7744 7640 8215 7950 8222 8278\n",
      "  8230 8337]\n",
      " [8870 7297 8417 8410 8715 8069 8113 8017 7311 8562 8350 7904 8209 7743\n",
      "  8107 7987]\n",
      " [7065 8283 8872 8154 8654 8340 8829 9435 8486 7693 8132 8026 8555 8011\n",
      "  7999 8023]]\n"
     ]
    }
   ],
   "source": [
    "def sum_last_two_axis(array):\n",
    "\n",
    "  return np.sum(array, axis=(2, 3))\n",
    "\n",
    "if __name__ == \"__main__\":\n",
    "  array = np.random.randint(0, 255, (16, 16, 8, 8))\n",
    "  summed_array = sum_last_two_axis(array)\n",
    "  print('Sum of array: ', summed_array)"
   ]
  },
  {
   "cell_type": "markdown",
   "metadata": {},
   "source": [
    "#### 68. Considering a one-dimensional vector D, how to compute means of subsets of D using a vector S of same size describing subset  indices? (★★★)"
   ]
  },
  {
   "cell_type": "code",
   "execution_count": 48,
   "metadata": {},
   "outputs": [
    {
     "name": "stdout",
     "output_type": "stream",
     "text": [
      "Subset means: [2.  5.  8.5]\n"
     ]
    }
   ],
   "source": [
    "def compute_subset_means(D, S):\n",
    "    unique_indices = np.unique(S)\n",
    "    subset_sums = np.bincount(S, weights=D)\n",
    "    subset_counts = np.bincount(S)\n",
    "    subset_means = subset_sums / subset_counts\n",
    "    return subset_means[unique_indices]\n",
    "\n",
    "D = np.array([1, 2, 3, 4, 5, 6, 7, 8, 9, 10])\n",
    "S = np.array([0, 0, 0, 1, 1, 1, 2, 2, 2, 2])\n",
    "\n",
    "subset_means = compute_subset_means(D, S)\n",
    "print(\"Subset means:\", subset_means)"
   ]
  },
  {
   "cell_type": "markdown",
   "metadata": {},
   "source": [
    "#### 69. How to get the diagonal of a dot product? (★★★)"
   ]
  },
  {
   "cell_type": "code",
   "execution_count": 56,
   "metadata": {},
   "outputs": [
    {
     "name": "stdout",
     "output_type": "stream",
     "text": [
      "Diagonal of the dot product: [ 58 154]\n"
     ]
    }
   ],
   "source": [
    "def get_diagonal_dot_product(matrix1, matrix2):\n",
    "    dot_product_matrix = np.dot(matrix1, matrix2)\n",
    "    diagonal = np.diagonal(dot_product_matrix)\n",
    "    return diagonal\n",
    "\n",
    "\n",
    "matrix1 = np.array([[1, 2, 3], [4, 5, 6]])\n",
    "matrix2 = np.array([[7, 8], [9, 10], [11, 12]])\n",
    "\n",
    "diagonal_dot_product = get_diagonal_dot_product(matrix1, matrix2)\n",
    "print(\"Diagonal of the dot product:\", diagonal_dot_product)"
   ]
  },
  {
   "cell_type": "markdown",
   "metadata": {},
   "source": [
    "#### 70. Consider the vector [1, 2, 3, 4, 5], how to build a new vector with 3 consecutive zeros interleaved between each value? (★★★)"
   ]
  },
  {
   "cell_type": "code",
   "execution_count": 64,
   "metadata": {},
   "outputs": [
    {
     "name": "stdout",
     "output_type": "stream",
     "text": [
      "[1. 0. 0. 0. 2. 0. 0. 0. 3. 0. 0. 0. 4. 0. 0. 0. 5. 0. 0. 0. 6. 0. 0. 0.\n",
      " 7. 0. 0. 0. 0. 0. 0. 0. 0. 0. 0. 0. 0. 0. 0. 0. 0. 0.]\n"
     ]
    }
   ],
   "source": [
    "import numpy as np\n",
    "\n",
    "def interleave_zeros(vector):\n",
    " \n",
    "  new_vector = np.zeros(len(vector) * 6)\n",
    "  index = 0\n",
    "  for value in vector:\n",
    "    new_vector[index] = value\n",
    "    index += 1\n",
    "    for _ in range(3):\n",
    "      new_vector[index] = 0\n",
    "      index += 1\n",
    "  return new_vector\n",
    "\n",
    "if __name__ == \"__main__\":\n",
    "  vector = np.array([1, 2, 3, 4, 5, 6, 7])\n",
    "  new_vector = interleave_zeros(vector)\n",
    "  print(new_vector)\n"
   ]
  },
  {
   "cell_type": "markdown",
   "metadata": {},
   "source": [
    "#### 71. Consider an array of dimension (5,5,3), how to mulitply it by an array with dimensions (5,5)? (★★★)"
   ]
  },
  {
   "cell_type": "code",
   "execution_count": 65,
   "metadata": {},
   "outputs": [
    {
     "name": "stdout",
     "output_type": "stream",
     "text": [
      "[[ 45.  36. 102. 100.  18.]\n",
      " [ 18. 136.  91.  78.  38.]\n",
      " [ 10. 108.  18. 104.  18.]\n",
      " [  0.  99.  40.  85.  90.]\n",
      " [ 17. 120. 133.  12. 114.]]\n"
     ]
    }
   ],
   "source": [
    "\n",
    "\n",
    "def multiply_arrays(array1, array2):\n",
    " \n",
    "  new_array = np.zeros((5, 5))\n",
    "  for i in range(5):\n",
    "    for j in range(5):\n",
    "      for k in range(3):\n",
    "        new_array[i, j] += array1[i, j, k] * array2[i, j]\n",
    "  return new_array\n",
    "\n",
    "if __name__ == \"__main__\":\n",
    "  array1 = np.random.randint(0, 10, (5, 5, 3))\n",
    "  array2 = np.random.randint(0, 10, (5, 5))\n",
    "  new_array = multiply_arrays(array1, array2)\n",
    "  print(new_array)\n"
   ]
  },
  {
   "cell_type": "markdown",
   "metadata": {},
   "source": [
    "#### 72. How to swap two rows of an array? (★★★)"
   ]
  },
  {
   "cell_type": "code",
   "execution_count": 66,
   "metadata": {},
   "outputs": [
    {
     "name": "stdout",
     "output_type": "stream",
     "text": [
      "[[7 8 9]\n",
      " [4 5 6]\n",
      " [7 8 9]]\n"
     ]
    }
   ],
   "source": [
    "def swap_rows(array, row1, row2):\n",
    "\n",
    "  temp = array[row1, :]\n",
    "  array[row1, :] = array[row2, :]\n",
    "  array[row2, :] = temp\n",
    "  return array\n",
    "\n",
    "if __name__ == \"__main__\":\n",
    "  array = np.array([[1, 2, 3], [4, 5, 6], [7, 8, 9]])\n",
    "  new_array = swap_rows(array, 0, 2)\n",
    "  print(new_array)"
   ]
  },
  {
   "cell_type": "markdown",
   "metadata": {},
   "source": [
    "#### 73. Consider a set of 10 triplets describing 10 triangles (with shared vertices), find the set of unique line segments composing all the  triangles (★★★)"
   ]
  },
  {
   "cell_type": "code",
   "execution_count": 67,
   "metadata": {},
   "outputs": [
    {
     "name": "stdout",
     "output_type": "stream",
     "text": [
      "{(0, 1), (1, 2), (3, 1), (0, 3), (2, 0), (3, 0), (2, 3), (0, 2), (3, 2), (1, 3)}\n"
     ]
    }
   ],
   "source": [
    "def find_unique_line_segments(triangles):\n",
    "  \n",
    "  line_segments = set()\n",
    "  for triangle in triangles:\n",
    "    for i in range(3):\n",
    "      for j in range(i + 1, 3):\n",
    "        line_segments.add((triangle[i], triangle[j]))\n",
    "  return line_segments\n",
    "\n",
    "if __name__ == \"__main__\":\n",
    "  triangles = [[0, 1, 2], [0, 2, 3], [1, 2, 3], [0, 3, 1], [1, 3, 2], [2, 3, 0]]\n",
    "  unique_line_segments = find_unique_line_segments(triangles)\n",
    "  print(unique_line_segments)\n"
   ]
  },
  {
   "cell_type": "markdown",
   "metadata": {},
   "source": [
    "#### 74. Given a sorted array C that corresponds to a bincount, how to produce an array A such that np.bincount(A) == C? (★★★)"
   ]
  },
  {
   "cell_type": "code",
   "execution_count": 68,
   "metadata": {},
   "outputs": [
    {
     "name": "stdout",
     "output_type": "stream",
     "text": [
      "[0 0 1 2 3 4]\n"
     ]
    }
   ],
   "source": [
    "\n",
    "def produce_array_from_bincount(c):\n",
    "\n",
    "  a = np.zeros(c[-1] + 1, dtype=int)\n",
    "  for i in range(len(c)):\n",
    "    a[c[i]] = i\n",
    "  return a\n",
    "\n",
    "if __name__ == \"__main__\":\n",
    "  c = np.array([1, 2, 3, 4, 5])\n",
    "  a = produce_array_from_bincount(c)\n",
    "  print(a)\n"
   ]
  },
  {
   "cell_type": "markdown",
   "metadata": {},
   "source": [
    "#### 75. How to compute averages using a sliding window over an array? (★★★)"
   ]
  },
  {
   "cell_type": "code",
   "execution_count": 69,
   "metadata": {},
   "outputs": [
    {
     "name": "stdout",
     "output_type": "stream",
     "text": [
      "[53.6 45.6 42.4 31.2 34.8 39.6 57.  61.8 72.6 57.6 52.6 42.4 36.4 40.6\n",
      " 45.4 63.2 55.8 52.  54.  61.  46.2 61.8 54.4 40.2 39.6 51.6 37.8 54.4\n",
      " 58.8 57.4 55.  66.8 68.2 68.4 69.6 68.4 66.8 50.2 46.4 47.2 38.  32.2\n",
      " 35.  35.4 35.2 35.4 41.6 53.6 59.  51.2 60.  58.8 51.2 46.6 55.6 49.2\n",
      " 37.4 29.4 42.2 38.6 33.8 49.  54.2 52.4 58.8 69.  69.2 69.2 69.6 53.2\n",
      " 56.4 45.  56.6 54.  68.  62.2 68.6 65.4 51.4 46.  50.4 47.6 38.  41.8\n",
      " 33.2 28.  27.6 33.6 32.2 40.8 46.8 40.  37.2 45.6 38.4 25.2]\n"
     ]
    }
   ],
   "source": [
    "\n",
    "def compute_moving_averages(array, window_size):\n",
    "  \n",
    "  moving_averages = np.zeros(len(array) - window_size + 1)\n",
    "  for i in range(len(moving_averages)):\n",
    "    moving_averages[i] = np.mean(array[i:i + window_size])\n",
    "  return moving_averages\n",
    "\n",
    "if __name__ == \"__main__\":\n",
    "  array = np.random.randint(0, 100, 100)\n",
    "  moving_averages = compute_moving_averages(array, 5)\n",
    "  print(moving_averages)\n"
   ]
  },
  {
   "cell_type": "markdown",
   "metadata": {},
   "source": [
    "#### 76. Consider a one-dimensional array Z, build a two-dimensional array whose first row is (Z[0],Z[1],Z[2]) and each subsequent row is  shifted by 1 (last row should be (Z[-3],Z[-2],Z[-1]) (★★★)"
   ]
  },
  {
   "cell_type": "code",
   "execution_count": 70,
   "metadata": {},
   "outputs": [
    {
     "name": "stdout",
     "output_type": "stream",
     "text": [
      "[[0 1 2]\n",
      " [3 4 5]\n",
      " [6 7 8]]\n"
     ]
    }
   ],
   "source": [
    "\n",
    "def create_shifted_array(z):\n",
    "\n",
    "\n",
    "  array_shape = (len(z) // 3, 3)\n",
    "  array = np.zeros(array_shape, dtype=z.dtype)\n",
    "  for i in range(array.shape[0]):\n",
    "    array[i] = z[i * 3:(i + 1) * 3]\n",
    "  return array\n",
    "\n",
    "if __name__ == \"__main__\":\n",
    "  z = np.arange(9)\n",
    "  shifted_array = create_shifted_array(z)\n",
    "  print(shifted_array)\n"
   ]
  },
  {
   "cell_type": "markdown",
   "metadata": {},
   "source": [
    "#### 77. How to negate a boolean, or to change the sign of a float inplace? (★★★)"
   ]
  },
  {
   "cell_type": "code",
   "execution_count": 71,
   "metadata": {},
   "outputs": [
    {
     "name": "stdout",
     "output_type": "stream",
     "text": [
      "True\n",
      "1.0\n"
     ]
    }
   ],
   "source": [
    "def negate_boolean_inplace(boolean):\n",
    "  boolean = ~boolean\n",
    "\n",
    "def change_sign_of_float_inplace(float_number):\n",
    "  float_number = -float_number\n",
    "\n",
    "if __name__ == \"__main__\":\n",
    "  boolean = True\n",
    "  negate_boolean_inplace(boolean)\n",
    "  print(boolean)\n",
    "\n",
    "  float_number = 1.0\n",
    "  change_sign_of_float_inplace(float_number)\n",
    "  print(float_number)"
   ]
  },
  {
   "cell_type": "markdown",
   "metadata": {},
   "source": [
    "#### 78. Consider 2 sets of points P0,P1 describing lines (2d) and a point p, how to compute distance from p to each line i (P0[i],P1[i])? (★★★)"
   ]
  },
  {
   "cell_type": "code",
   "execution_count": 78,
   "metadata": {},
   "outputs": [
    {
     "name": "stdout",
     "output_type": "stream",
     "text": [
      "Distances to lines: [0. 0. 0.]\n"
     ]
    }
   ],
   "source": [
    "\n",
    "def distance_to_lines(P0, P1, p):\n",
    "    x0, y0 = p\n",
    "    x1, y1 = P0.T\n",
    "    x2, y2 = P1.T\n",
    "\n",
    "    numerator = np.abs((x2 - x1) * (y1 - y0) - (x1 - x0) * (y2 - y1))\n",
    "    denominator = np.sqrt((x2 - x1)**2 + (y2 - y1)**2)\n",
    "\n",
    "    distances = numerator / denominator\n",
    "    return distances\n",
    "\n",
    "\n",
    "P0 = np.array([[1, 2], [3, 4], [5, 6]])  # First points of the lines\n",
    "P1 = np.array([[7, 8], [9, 10], [11, 12]])  # Second points of the lines\n",
    "p = np.array([13, 14])  # The point 'p'\n",
    "\n",
    "distances = distance_to_lines(P0, P1, p)\n",
    "print(\"Distances to lines:\", distances)\n"
   ]
  },
  {
   "cell_type": "markdown",
   "metadata": {},
   "source": [
    "#### 79. Consider 2 sets of points P0,P1 describing lines (2d) and a set of points P, how to compute distance from each point j (P[j]) to each line i (P0[i],P1[i])? (★★★)"
   ]
  },
  {
   "cell_type": "code",
   "execution_count": 80,
   "metadata": {},
   "outputs": [
    {
     "name": "stdout",
     "output_type": "stream",
     "text": [
      "Distances to lines: [0. 0. 0.]\n"
     ]
    }
   ],
   "source": [
    "def distance_to_lines(P0, P1, p):\n",
    "    x0, y0 = p\n",
    "    x1, y1 = P0.T\n",
    "    x2, y2 = P1.T\n",
    "\n",
    "    numerator = np.abs((x2 - x1) * (y1 - y0) - (x1 - x0) * (y2 - y1))\n",
    "    denominator = np.sqrt((x2 - x1)**2 + (y2 - y1)**2)\n",
    "\n",
    "    distances = numerator / denominator\n",
    "    return distances\n",
    "\n",
    "\n",
    "P0 = np.array([[1, 2], [3, 4], [5, 6]])  # First points of the lines\n",
    "P1 = np.array([[7, 8], [9, 10], [11, 12]])  # Second points of the lines\n",
    "p = np.array([13, 14])  # The point 'p'\n",
    "\n",
    "distances = distance_to_lines(P0, P1, p)\n",
    "print(\"Distances to lines:\", distances)\n"
   ]
  },
  {
   "cell_type": "markdown",
   "metadata": {},
   "source": [
    "#### 80. Consider an arbitrary array, write a function that extract a subpart with a fixed shape and centered on a given element (pad with a `fill` value when necessary) (★★★)"
   ]
  },
  {
   "cell_type": "code",
   "execution_count": 81,
   "metadata": {},
   "outputs": [
    {
     "name": "stdout",
     "output_type": "stream",
     "text": [
      "[[-1 -1 -1]\n",
      " [-1 -1 -1]\n",
      " [-1 -1 -1]]\n"
     ]
    }
   ],
   "source": [
    "def extract_subpart_centered_on_element(array, shape, fill_value=0):\n",
    "\n",
    "  center = np.array(shape) // 2\n",
    "  start = center - np.array(array.shape) // 2\n",
    "  end = start + shape\n",
    "  subpart = np.full(shape, fill_value)\n",
    "  subpart[start[0]:end[0], start[1]:end[1]] = array[\n",
    "      center[0] - start[0]:center[0] + end[0],\n",
    "      center[1] - start[1]:center[1] + end[1]]\n",
    "  return subpart\n",
    "\n",
    "\n",
    "if __name__ == \"__main__\":\n",
    "  array = np.arange(16).reshape((4, 4))\n",
    "  subpart = extract_subpart_centered_on_element(array, (3, 3), fill_value=-1)\n",
    "  print(subpart)"
   ]
  },
  {
   "cell_type": "markdown",
   "metadata": {},
   "source": [
    "#### 81. Consider an array Z = [1,2,3,4,5,6,7,8,9,10,11,12,13,14], how to generate an array R = [[1,2,3,4], [2,3,4,5], [3,4,5,6], ..., [11,12,13,14]]? (★★★)"
   ]
  },
  {
   "cell_type": "code",
   "execution_count": 82,
   "metadata": {},
   "outputs": [
    {
     "name": "stdout",
     "output_type": "stream",
     "text": [
      "[[1, 2, 3, 4], [5, 6, 7, 8], [9, 10, 11, 12]]\n"
     ]
    }
   ],
   "source": [
    "def generate_array_from_z(z):\n",
    "\n",
    "  r = []\n",
    "  for i in range(len(z) // 4):\n",
    "    r.append(z[i * 4:(i + 1) * 4])\n",
    "  return r\n",
    "\n",
    "\n",
    "if __name__ == \"__main__\":\n",
    "  z = [1, 2, 3, 4, 5, 6, 7, 8, 9, 10, 11, 12, 13, 14]\n",
    "  r = generate_array_from_z(z)\n",
    "  print(r)"
   ]
  },
  {
   "cell_type": "markdown",
   "metadata": {},
   "source": [
    "#### 82. Compute a matrix rank (★★★)"
   ]
  },
  {
   "cell_type": "code",
   "execution_count": 85,
   "metadata": {},
   "outputs": [
    {
     "name": "stdout",
     "output_type": "stream",
     "text": [
      "Matrix:\n",
      "[[1 2 3]\n",
      " [4 5 6]\n",
      " [7 8 9]]\n",
      "Rank of the matrix: 2\n"
     ]
    }
   ],
   "source": [
    "matrix = np.array([[1, 2, 3],\n",
    "                   [4, 5, 6],\n",
    "                   [7, 8, 9]])\n",
    "\n",
    "# Compute the rank of the matrix\n",
    "rank = np.linalg.matrix_rank(matrix)\n",
    "\n",
    "print(\"Matrix:\")\n",
    "print(matrix)\n",
    "print(\"Rank of the matrix:\", rank)\n"
   ]
  },
  {
   "cell_type": "markdown",
   "metadata": {},
   "source": [
    "#### 83. How to find the most frequent value in an array?"
   ]
  },
  {
   "cell_type": "code",
   "execution_count": 86,
   "metadata": {},
   "outputs": [
    {
     "name": "stdout",
     "output_type": "stream",
     "text": [
      "Most frequent value in the array: 3\n"
     ]
    }
   ],
   "source": [
    "def most_frequent_value(array):\n",
    "    counts = np.bincount(array)\n",
    "    most_frequent = np.argmax(counts)\n",
    "    return most_frequent\n",
    "\n",
    "arr = np.array([1, 2, 3, 2, 2, 3, 4, 3, 3, 3, 4, 4, 4, 4])\n",
    "most_frequent_val = most_frequent_value(arr)\n",
    "print(\"Most frequent value in the array:\", most_frequent_val)"
   ]
  },
  {
   "cell_type": "markdown",
   "metadata": {},
   "source": [
    "#### 84. Extract all the contiguous 3x3 blocks from a random 10x10 matrix (★★★)"
   ]
  },
  {
   "cell_type": "code",
   "execution_count": 87,
   "metadata": {},
   "outputs": [
    {
     "name": "stdout",
     "output_type": "stream",
     "text": [
      "Block 1:\n",
      "[[51 92 14]\n",
      " [87 99 23]\n",
      " [ 1 63 59]]\n",
      "\n",
      "Block 2:\n",
      "[[92 14 71]\n",
      " [99 23  2]\n",
      " [63 59 20]]\n",
      "\n",
      "Block 3:\n",
      "[[14 71 60]\n",
      " [23  2 21]\n",
      " [59 20 32]]\n",
      "\n",
      "Block 4:\n",
      "[[71 60 20]\n",
      " [ 2 21 52]\n",
      " [20 32 75]]\n",
      "\n",
      "Block 5:\n",
      "[[60 20 82]\n",
      " [21 52  1]\n",
      " [32 75 57]]\n",
      "\n",
      "Block 6:\n",
      "[[20 82 86]\n",
      " [52  1 87]\n",
      " [75 57 21]]\n",
      "\n",
      "Block 7:\n",
      "[[82 86 74]\n",
      " [ 1 87 29]\n",
      " [57 21 88]]\n",
      "\n",
      "Block 8:\n",
      "[[86 74 74]\n",
      " [87 29 37]\n",
      " [21 88 48]]\n",
      "\n",
      "Block 9:\n",
      "[[87 99 23]\n",
      " [ 1 63 59]\n",
      " [90 58 41]]\n",
      "\n",
      "Block 10:\n",
      "[[99 23  2]\n",
      " [63 59 20]\n",
      " [58 41 91]]\n",
      "\n",
      "Block 11:\n",
      "[[23  2 21]\n",
      " [59 20 32]\n",
      " [41 91 59]]\n",
      "\n",
      "Block 12:\n",
      "[[ 2 21 52]\n",
      " [20 32 75]\n",
      " [91 59 79]]\n",
      "\n",
      "Block 13:\n",
      "[[21 52  1]\n",
      " [32 75 57]\n",
      " [59 79 14]]\n",
      "\n",
      "Block 14:\n",
      "[[52  1 87]\n",
      " [75 57 21]\n",
      " [79 14 61]]\n",
      "\n",
      "Block 15:\n",
      "[[ 1 87 29]\n",
      " [57 21 88]\n",
      " [14 61 61]]\n",
      "\n",
      "Block 16:\n",
      "[[87 29 37]\n",
      " [21 88 48]\n",
      " [61 61 46]]\n",
      "\n",
      "Block 17:\n",
      "[[ 1 63 59]\n",
      " [90 58 41]\n",
      " [61 50 54]]\n",
      "\n",
      "Block 18:\n",
      "[[63 59 20]\n",
      " [58 41 91]\n",
      " [50 54 63]]\n",
      "\n",
      "Block 19:\n",
      "[[59 20 32]\n",
      " [41 91 59]\n",
      " [54 63  2]]\n",
      "\n",
      "Block 20:\n",
      "[[20 32 75]\n",
      " [91 59 79]\n",
      " [63  2 50]]\n",
      "\n",
      "Block 21:\n",
      "[[32 75 57]\n",
      " [59 79 14]\n",
      " [ 2 50  6]]\n",
      "\n",
      "Block 22:\n",
      "[[75 57 21]\n",
      " [79 14 61]\n",
      " [50  6 20]]\n",
      "\n",
      "Block 23:\n",
      "[[57 21 88]\n",
      " [14 61 61]\n",
      " [ 6 20 72]]\n",
      "\n",
      "Block 24:\n",
      "[[21 88 48]\n",
      " [61 61 46]\n",
      " [20 72 38]]\n",
      "\n",
      "Block 25:\n",
      "[[90 58 41]\n",
      " [61 50 54]\n",
      " [17  3 88]]\n",
      "\n",
      "Block 26:\n",
      "[[58 41 91]\n",
      " [50 54 63]\n",
      " [ 3 88 59]]\n",
      "\n",
      "Block 27:\n",
      "[[41 91 59]\n",
      " [54 63  2]\n",
      " [88 59 13]]\n",
      "\n",
      "Block 28:\n",
      "[[91 59 79]\n",
      " [63  2 50]\n",
      " [59 13  8]]\n",
      "\n",
      "Block 29:\n",
      "[[59 79 14]\n",
      " [ 2 50  6]\n",
      " [13  8 89]]\n",
      "\n",
      "Block 30:\n",
      "[[79 14 61]\n",
      " [50  6 20]\n",
      " [ 8 89 52]]\n",
      "\n",
      "Block 31:\n",
      "[[14 61 61]\n",
      " [ 6 20 72]\n",
      " [89 52  1]]\n",
      "\n",
      "Block 32:\n",
      "[[61 61 46]\n",
      " [20 72 38]\n",
      " [52  1 83]]\n",
      "\n",
      "Block 33:\n",
      "[[61 50 54]\n",
      " [17  3 88]\n",
      " [91 59 70]]\n",
      "\n",
      "Block 34:\n",
      "[[50 54 63]\n",
      " [ 3 88 59]\n",
      " [59 70 43]]\n",
      "\n",
      "Block 35:\n",
      "[[54 63  2]\n",
      " [88 59 13]\n",
      " [70 43  7]]\n",
      "\n",
      "Block 36:\n",
      "[[63  2 50]\n",
      " [59 13  8]\n",
      " [43  7 46]]\n",
      "\n",
      "Block 37:\n",
      "[[ 2 50  6]\n",
      " [13  8 89]\n",
      " [ 7 46 34]]\n",
      "\n",
      "Block 38:\n",
      "[[50  6 20]\n",
      " [ 8 89 52]\n",
      " [46 34 77]]\n",
      "\n",
      "Block 39:\n",
      "[[ 6 20 72]\n",
      " [89 52  1]\n",
      " [34 77 80]]\n",
      "\n",
      "Block 40:\n",
      "[[20 72 38]\n",
      " [52  1 83]\n",
      " [77 80 35]]\n",
      "\n",
      "Block 41:\n",
      "[[17  3 88]\n",
      " [91 59 70]\n",
      " [49  3  1]]\n",
      "\n",
      "Block 42:\n",
      "[[ 3 88 59]\n",
      " [59 70 43]\n",
      " [ 3  1  5]]\n",
      "\n",
      "Block 43:\n",
      "[[88 59 13]\n",
      " [70 43  7]\n",
      " [ 1  5 53]]\n",
      "\n",
      "Block 44:\n",
      "[[59 13  8]\n",
      " [43  7 46]\n",
      " [ 5 53  3]]\n",
      "\n",
      "Block 45:\n",
      "[[13  8 89]\n",
      " [ 7 46 34]\n",
      " [53  3 53]]\n",
      "\n",
      "Block 46:\n",
      "[[ 8 89 52]\n",
      " [46 34 77]\n",
      " [ 3 53 92]]\n",
      "\n",
      "Block 47:\n",
      "[[89 52  1]\n",
      " [34 77 80]\n",
      " [53 92 62]]\n",
      "\n",
      "Block 48:\n",
      "[[52  1 83]\n",
      " [77 80 35]\n",
      " [92 62 17]]\n",
      "\n",
      "Block 49:\n",
      "[[91 59 70]\n",
      " [49  3  1]\n",
      " [89 43 33]]\n",
      "\n",
      "Block 50:\n",
      "[[59 70 43]\n",
      " [ 3  1  5]\n",
      " [43 33 73]]\n",
      "\n",
      "Block 51:\n",
      "[[70 43  7]\n",
      " [ 1  5 53]\n",
      " [33 73 61]]\n",
      "\n",
      "Block 52:\n",
      "[[43  7 46]\n",
      " [ 5 53  3]\n",
      " [73 61 99]]\n",
      "\n",
      "Block 53:\n",
      "[[ 7 46 34]\n",
      " [53  3 53]\n",
      " [61 99 13]]\n",
      "\n",
      "Block 54:\n",
      "[[46 34 77]\n",
      " [ 3 53 92]\n",
      " [99 13 94]]\n",
      "\n",
      "Block 55:\n",
      "[[34 77 80]\n",
      " [53 92 62]\n",
      " [13 94 47]]\n",
      "\n",
      "Block 56:\n",
      "[[77 80 35]\n",
      " [92 62 17]\n",
      " [94 47 14]]\n",
      "\n",
      "Block 57:\n",
      "[[49  3  1]\n",
      " [89 43 33]\n",
      " [71 77 86]]\n",
      "\n",
      "Block 58:\n",
      "[[ 3  1  5]\n",
      " [43 33 73]\n",
      " [77 86 61]]\n",
      "\n",
      "Block 59:\n",
      "[[ 1  5 53]\n",
      " [33 73 61]\n",
      " [86 61 39]]\n",
      "\n",
      "Block 60:\n",
      "[[ 5 53  3]\n",
      " [73 61 99]\n",
      " [61 39 84]]\n",
      "\n",
      "Block 61:\n",
      "[[53  3 53]\n",
      " [61 99 13]\n",
      " [39 84 79]]\n",
      "\n",
      "Block 62:\n",
      "[[ 3 53 92]\n",
      " [99 13 94]\n",
      " [84 79 81]]\n",
      "\n",
      "Block 63:\n",
      "[[53 92 62]\n",
      " [13 94 47]\n",
      " [79 81 52]]\n",
      "\n",
      "Block 64:\n",
      "[[92 62 17]\n",
      " [94 47 14]\n",
      " [81 52 23]]\n",
      "\n"
     ]
    }
   ],
   "source": [
    "def extract_contiguous_blocks(matrix):\n",
    "    block_size = 3\n",
    "    blocks = []\n",
    "    rows, cols = matrix.shape\n",
    "\n",
    "    for r in range(rows - block_size + 1):\n",
    "        for c in range(cols - block_size + 1):\n",
    "            block = matrix[r:r+block_size, c:c+block_size]\n",
    "            blocks.append(block)\n",
    "\n",
    "    return blocks\n",
    "\n",
    "np.random.seed(42)  # For reproducibility\n",
    "matrix = np.random.randint(0, 100, size=(10, 10))\n",
    "\n",
    "blocks = extract_contiguous_blocks(matrix)\n",
    "\n",
    "# Print the extracted blocks\n",
    "for i, block in enumerate(blocks):\n",
    "    print(f\"Block {i + 1}:\")\n",
    "    print(block)\n",
    "    print()"
   ]
  },
  {
   "cell_type": "markdown",
   "metadata": {},
   "source": [
    "#### 85. Create a 2D array subclass such that Z[i,j] == Z[j,i] (★★★)"
   ]
  },
  {
   "cell_type": "code",
   "execution_count": 88,
   "metadata": {},
   "outputs": [
    {
     "name": "stdout",
     "output_type": "stream",
     "text": [
      "Original Array:\n",
      "[[1 2 3]\n",
      " [4 5 6]\n",
      " [7 8 9]]\n",
      "\n",
      "Modified Array:\n",
      "[[ 1  2  3]\n",
      " [ 4  5 99]\n",
      " [ 7 99  9]]\n",
      "\n",
      "Accessing elements:\n",
      "99\n",
      "99\n"
     ]
    }
   ],
   "source": [
    "\n",
    "class SymmetricArray(np.ndarray):\n",
    "    def __new__(cls, input_array):\n",
    "        obj = np.asarray(input_array).view(cls)\n",
    "        return obj\n",
    "\n",
    "    def __setitem__(self, key, value):\n",
    "        i, j = key\n",
    "        super(SymmetricArray, self).__setitem__((i, j), value)\n",
    "        super(SymmetricArray, self).__setitem__((j, i), value)\n",
    "\n",
    "    def __getitem__(self, key):\n",
    "        i, j = key\n",
    "        return super(SymmetricArray, self).__getitem__((i, j))\n",
    "\n",
    "data = [[1, 2, 3],\n",
    "        [4, 5, 6],\n",
    "        [7, 8, 9]]\n",
    "\n",
    "symmetric_array = SymmetricArray(data)\n",
    "print(\"Original Array:\")\n",
    "print(symmetric_array)\n",
    "\n",
    "# Modify an element, and both [i, j] and [j, i] are updated\n",
    "symmetric_array[1, 2] = 99\n",
    "\n",
    "print(\"\\nModified Array:\")\n",
    "print(symmetric_array)\n",
    "\n",
    "# Access elements, and both [i, j] and [j, i] return the same value\n",
    "print(\"\\nAccessing elements:\")\n",
    "print(symmetric_array[1, 2])\n",
    "print(symmetric_array[2, 1])\n"
   ]
  },
  {
   "cell_type": "markdown",
   "metadata": {},
   "source": [
    "#### 86. Consider a set of p matrices wich shape (n,n) and a set of p vectors with shape (n,1). How to compute the sum of of the p matrix products at once? (result has shape (n,1)) (★★★)"
   ]
  },
  {
   "cell_type": "code",
   "execution_count": 92,
   "metadata": {},
   "outputs": [
    {
     "name": "stdout",
     "output_type": "stream",
     "text": [
      "Sum of matrix products:\n",
      "[[149.]\n",
      " [191.]]\n"
     ]
    }
   ],
   "source": [
    "import numpy as np\n",
    "\n",
    "def compute_sum_of_matrix_products(matrices, vectors):\n",
    " \n",
    "\n",
    "  sum_of_products = np.zeros((matrices[0].shape[0], 1))\n",
    "  for matrix, vector in zip(matrices, vectors):\n",
    "    sum_of_products += matrix @ vector\n",
    "  return sum_of_products\n",
    "\n",
    "\n",
    "if __name__ == \"__main__\":\n",
    "  matrices = np.array([\n",
    "      np.array([[1, 2], [3, 4]]), np.array([[5, 6], [7, 8]]), np.array([[9, 10], [11, 12]])\n",
    "  ])\n",
    "  vectors = np.array([\n",
    "      np.array([[1], [2]]), np.array([[3], [4]]), np.array([[5], [6]])\n",
    "  ])\n",
    "  sum_of_products = compute_sum_of_matrix_products(matrices, vectors)\n",
    "  assert sum_of_products.shape == (2, 1)\n",
    "print(\"Sum of matrix products:\")\n",
    "print(sum_of_products)"
   ]
  },
  {
   "cell_type": "markdown",
   "metadata": {},
   "source": [
    "#### 87. Consider a 16x16 array, how to get the block-sum (block size is 4x4)? (★★★)"
   ]
  },
  {
   "cell_type": "code",
   "execution_count": 94,
   "metadata": {},
   "outputs": [
    {
     "name": "stdout",
     "output_type": "stream",
     "text": [
      "[[ 408.  472.  536.  600.]\n",
      " [1432. 1496. 1560. 1624.]\n",
      " [2456. 2520. 2584. 2648.]\n",
      " [3480. 3544. 3608. 3672.]]\n"
     ]
    }
   ],
   "source": [
    "\n",
    "def get_block_sum(array):\n",
    "\n",
    "\n",
    "  block_size = 4\n",
    "  block_sum = np.zeros((array.shape[0] // block_size, array.shape[1] // block_size))\n",
    "  for i in range(block_sum.shape[0]):\n",
    "    for j in range(block_sum.shape[1]):\n",
    "      block_sum[i, j] = np.sum(array[i * block_size:(i + 1) * block_size,\n",
    "                                       j * block_size:(j + 1) * block_size])\n",
    "  return block_sum\n",
    "\n",
    "\n",
    "if __name__ == \"__main__\":\n",
    "  array = np.arange(256).reshape((16, 16))\n",
    "  block_sum = get_block_sum(array)\n",
    "  assert block_sum.shape == (4, 4)\n",
    "print(block_sum)"
   ]
  },
  {
   "cell_type": "markdown",
   "metadata": {},
   "source": [
    "#### 88. How to implement the Game of Life using numpy arrays? (★★★)"
   ]
  },
  {
   "cell_type": "code",
   "execution_count": 114,
   "metadata": {},
   "outputs": [
    {
     "name": "stdout",
     "output_type": "stream",
     "text": [
      "Final Grid:\n",
      "[[1 0 1 1 0 0 0 1 0 1]\n",
      " [1 0 0 0 0 0 1 1 0 1]\n",
      " [0 1 1 1 0 0 1 1 0 1]\n",
      " [1 0 0 1 0 0 0 0 0 1]\n",
      " [0 1 1 0 0 0 0 0 0 1]\n",
      " [0 0 0 1 0 0 0 0 0 1]\n",
      " [0 0 1 0 0 0 0 1 0 1]\n",
      " [0 1 1 0 1 0 0 1 0 1]\n",
      " [1 1 0 0 0 1 0 1 0 1]\n",
      " [1 1 0 0 1 1 0 1 1 1]]\n"
     ]
    }
   ],
   "source": [
    "\n",
    "def game_of_life(grid, steps=1):\n",
    "    for step in range(steps):\n",
    "        new_grid = np.copy(grid)\n",
    "\n",
    "        neighbors_count = (\n",
    "            grid[:-2, :-2] + grid[:-2, 1:-1] + grid[:-2, 2:] +\n",
    "            grid[1:-1, :-2] + grid[1:-1, 2:] +\n",
    "            grid[2:, :-2] + grid[2:, 1:-1] + grid[2:, 2:]\n",
    "        )\n",
    "\n",
    "        new_grid[1:-1, 1:-1][(grid[1:-1, 1:-1] == 1) & ((neighbors_count < 2) | (neighbors_count > 3))] = 0\n",
    "        new_grid[1:-1, 1:-1][(grid[1:-1, 1:-1] == 0) & (neighbors_count == 3)] = 1\n",
    "\n",
    "        grid = new_grid\n",
    "\n",
    "    return grid\n",
    "\n",
    "grid_size = 10\n",
    "initial_grid = np.random.randint(2, size=(grid_size, grid_size))\n",
    "\n",
    "num_steps = 10\n",
    "final_grid = game_of_life(initial_grid, steps=num_steps)\n",
    "\n",
    "print(\"Final Grid:\")\n",
    "print(final_grid)\n"
   ]
  },
  {
   "cell_type": "markdown",
   "metadata": {},
   "source": [
    "#### 89. How to get the n largest values of an array (★★★)"
   ]
  },
  {
   "cell_type": "code",
   "execution_count": 115,
   "metadata": {},
   "outputs": [
    {
     "name": "stdout",
     "output_type": "stream",
     "text": [
      "The 3 largest values: [7 8 9]\n"
     ]
    }
   ],
   "source": [
    "\n",
    "def n_largest_values(array, n):\n",
    "    indices_sorted = np.argsort(array)\n",
    "    n_largest_indices = indices_sorted[-n:]\n",
    "    n_largest_values = array[n_largest_indices]\n",
    "    return n_largest_values\n",
    "\n",
    "arr = np.array([5, 2, 9, 1, 7, 6, 8, 3, 4])\n",
    "n = 3\n",
    "\n",
    "n_largest = n_largest_values(arr, n)\n",
    "print(\"The\", n, \"largest values:\", n_largest)\n"
   ]
  },
  {
   "cell_type": "markdown",
   "metadata": {},
   "source": [
    "#### 90. Given an arbitrary number of vectors, build the cartesian product (every combinations of every item) (★★★)"
   ]
  },
  {
   "cell_type": "code",
   "execution_count": 116,
   "metadata": {},
   "outputs": [
    {
     "name": "stdout",
     "output_type": "stream",
     "text": [
      "Cartesian product:\n",
      "[(1, 'a', True), (1, 'a', False), (1, 'b', True), (1, 'b', False), (1, 'c', True), (1, 'c', False), (2, 'a', True), (2, 'a', False), (2, 'b', True), (2, 'b', False), (2, 'c', True), (2, 'c', False)]\n"
     ]
    }
   ],
   "source": [
    "import itertools\n",
    "\n",
    "def cartesian_product(*vectors):\n",
    "    return list(itertools.product(*vectors))\n",
    "\n",
    "vec1 = [1, 2]\n",
    "vec2 = ['a', 'b', 'c']\n",
    "vec3 = [True, False]\n",
    "\n",
    "result = cartesian_product(vec1, vec2, vec3)\n",
    "print(\"Cartesian product:\")\n",
    "print(result)\n"
   ]
  },
  {
   "cell_type": "markdown",
   "metadata": {},
   "source": [
    "#### 91. How to create a record array from a regular array? (★★★)"
   ]
  },
  {
   "cell_type": "code",
   "execution_count": 117,
   "metadata": {},
   "outputs": [
    {
     "name": "stdout",
     "output_type": "stream",
     "text": [
      "Record array:\n",
      "[('1', 'Alice', '30') ('2', 'Bob', '25') ('3', 'Charlie', '40')]\n",
      "Access elements using field names:\n",
      "['1' '2' '3']\n",
      "['Alice' 'Bob' 'Charlie']\n",
      "['30' '25' '40']\n"
     ]
    }
   ],
   "source": [
    "regular_array = np.array([[1, 'Alice', 30],\n",
    "                          [2, 'Bob', 25],\n",
    "                          [3, 'Charlie', 40]])\n",
    "\n",
    "field_names = ['ID', 'Name', 'Age']\n",
    "record_array = np.rec.fromarrays(regular_array.T, names=field_names)\n",
    "\n",
    "print(\"Record array:\")\n",
    "print(record_array)\n",
    "print(\"Access elements using field names:\")\n",
    "print(record_array['ID'])\n",
    "print(record_array['Name'])\n",
    "print(record_array['Age'])"
   ]
  },
  {
   "cell_type": "markdown",
   "metadata": {},
   "source": [
    "#### 92. Consider a large vector Z, compute Z to the power of 3 using 3 different methods (★★★)"
   ]
  },
  {
   "cell_type": "code",
   "execution_count": 120,
   "metadata": {},
   "outputs": [
    {
     "name": "stdout",
     "output_type": "stream",
     "text": [
      "[0.50331352 0.79705649 0.01291867 ... 0.05180405 0.00512584 0.07415503]\n"
     ]
    }
   ],
   "source": [
    "Z = np.random.rand(1000000)  \n",
    "Z_power_3 = np.power(Z, 3)\n",
    "\n",
    "print(Z_power_3)"
   ]
  },
  {
   "cell_type": "markdown",
   "metadata": {},
   "source": [
    "#### 93. Consider two arrays A and B of shape (8,3) and (2,2). How to find rows of A that contain elements of each row of B regardless of the order of the elements in B? (★★★)"
   ]
  },
  {
   "cell_type": "code",
   "execution_count": 122,
   "metadata": {},
   "outputs": [
    {
     "name": "stdout",
     "output_type": "stream",
     "text": [
      "Result Rows:\n",
      "[[1 2 3]\n",
      " [2 3 1]\n",
      " [3 2 1]\n",
      " [1 2 3]]\n"
     ]
    }
   ],
   "source": [
    "\n",
    "A = np.array([[1, 2, 3],\n",
    "              [4, 5, 6],\n",
    "              [2, 3, 1],\n",
    "              [7, 8, 9],\n",
    "              [3, 2, 1],\n",
    "              [6, 5, 4],\n",
    "              [1, 2, 3],\n",
    "              [9, 8, 7]])\n",
    "\n",
    "B = np.array([[1, 2],\n",
    "              [2, 3]])\n",
    "\n",
    "rows_with_elements_of_B = np.all(np.isin(A, B), axis=1)\n",
    "\n",
    "result_indices = np.where(rows_with_elements_of_B)[0]\n",
    "\n",
    "result_rows = A[result_indices]\n",
    "\n",
    "print(\"Result Rows:\")\n",
    "print(result_rows)\n"
   ]
  },
  {
   "cell_type": "markdown",
   "metadata": {},
   "source": [
    "#### 94. Considering a 10x3 matrix, extract rows with unequal values (e.g. [2,2,3]) (★★★)"
   ]
  },
  {
   "cell_type": "code",
   "execution_count": 124,
   "metadata": {},
   "outputs": [
    {
     "name": "stdout",
     "output_type": "stream",
     "text": [
      "Rows with unequal values:\n",
      "[[2 2 3]]\n"
     ]
    }
   ],
   "source": [
    "\n",
    "matrix = np.array([[1, 1, 1],\n",
    "                   [2, 2, 2],\n",
    "                   [3, 3, 3],\n",
    "                   [2, 2, 3],\n",
    "                   [4, 4, 4],\n",
    "                   [5, 5, 5],\n",
    "                   [3, 3, 3],\n",
    "                   [6, 6, 6],\n",
    "                   [7, 7, 7],\n",
    "                   [8, 8, 8]])\n",
    "\n",
    "mask = np.any(matrix != matrix[:, [0]], axis=1)\n",
    "\n",
    "result_rows = matrix[mask]\n",
    "\n",
    "print(\"Rows with unequal values:\")\n",
    "print(result_rows)\n"
   ]
  },
  {
   "cell_type": "markdown",
   "metadata": {},
   "source": [
    "#### 95. Convert a vector of ints into a matrix binary representation (★★★)"
   ]
  },
  {
   "cell_type": "code",
   "execution_count": 126,
   "metadata": {},
   "outputs": [
    {
     "name": "stdout",
     "output_type": "stream",
     "text": [
      "Binary Matrix:\n",
      "[[1 0 1 0]\n",
      " [1 1 0 0]\n",
      " [1 1 1 0]\n",
      " [0 1 0 0]\n",
      " [1 0 0 1]]\n"
     ]
    }
   ],
   "source": [
    "\n",
    "def int_to_binary_matrix(vector, num_bits):\n",
    "    mask = 1 << np.arange(num_bits)\n",
    "\n",
    "    binary_matrix = (vector[:, None] & mask) > 0\n",
    "\n",
    "    return binary_matrix.astype(int)\n",
    "\n",
    "vector = np.array([5, 3, 7, 2, 9])\n",
    "num_bits = 4  \n",
    "binary_matrix = int_to_binary_matrix(vector, num_bits)\n",
    "print(\"Binary Matrix:\")\n",
    "print(binary_matrix)\n"
   ]
  },
  {
   "cell_type": "markdown",
   "metadata": {},
   "source": [
    "#### 96. Given a two dimensional array, how to extract unique rows? (★★★)"
   ]
  },
  {
   "cell_type": "code",
   "execution_count": 127,
   "metadata": {},
   "outputs": [
    {
     "name": "stdout",
     "output_type": "stream",
     "text": [
      "Unique Rows:\n",
      "[[1 2 3]\n",
      " [4 5 6]\n",
      " [7 8 9]]\n"
     ]
    }
   ],
   "source": [
    "\n",
    "def extract_unique_rows(array):\n",
    "    unique_rows, indices = np.unique(array, axis=0, return_index=True)\n",
    "    return unique_rows\n",
    "\n",
    "two_dimensional_array = np.array([[1, 2, 3],\n",
    "                                 [4, 5, 6],\n",
    "                                 [1, 2, 3],\n",
    "                                 [7, 8, 9],\n",
    "                                 [4, 5, 6]])\n",
    "\n",
    "unique_rows = extract_unique_rows(two_dimensional_array)\n",
    "print(\"Unique Rows:\")\n",
    "print(unique_rows)\n"
   ]
  },
  {
   "cell_type": "markdown",
   "metadata": {},
   "source": [
    "#### 97. Considering 2 vectors A & B, write the einsum equivalent of inner, outer, sum, and mul function (★★★)"
   ]
  },
  {
   "cell_type": "code",
   "execution_count": 131,
   "metadata": {},
   "outputs": [
    {
     "name": "stdout",
     "output_type": "stream",
     "text": [
      "Inner product: 32\n",
      "Outer product: [[ 4  5  6]\n",
      " [ 8 10 12]\n",
      " [12 15 18]]\n",
      "Sum: [1 2 3 4]\n",
      "Element-wise multiplication: [ 4 10 18]\n"
     ]
    }
   ],
   "source": [
    "A = np.array([1, 2, 3])\n",
    "B = np.array([4, 5, 6])\n",
    "\n",
    "inner_product = np.einsum('i,i', A, B)\n",
    "\n",
    "A = np.array([1, 2, 3])\n",
    "B = np.array([4, 5, 6])\n",
    "\n",
    "outer_product = np.einsum('i,j->ij', A, B)\n",
    "A = np.array([1, 2, 3, 4])\n",
    "\n",
    "sum_result = np.einsum('i', A)\n",
    "\n",
    "A = np.array([1, 2, 3])\n",
    "B = np.array([4, 5, 6])\n",
    "\n",
    "mul_result = np.einsum('i,i->i', A, B)\n",
    "\n",
    "print(\"Inner product:\", inner_product)\n",
    "print(\"Outer product:\", outer_product)\n",
    "print(\"Sum:\", sum_result)\n",
    "print(\"Element-wise multiplication:\", mul_result)"
   ]
  },
  {
   "cell_type": "markdown",
   "metadata": {},
   "source": [
    "#### 98. Considering a path described by two vectors (X,Y), how to sample it using equidistant samples (★★★)?"
   ]
  },
  {
   "cell_type": "code",
   "execution_count": 134,
   "metadata": {},
   "outputs": [
    {
     "name": "stdout",
     "output_type": "stream",
     "text": [
      "Sampled X: [0.         0.60302097 1.32578091 2.27924078 3.23270065 4.18616052\n",
      " 5.13962039 6.09308026 7.04654013 8.        ]\n",
      "Sampled Y: [0.         1.20604194 2.32578091 3.27924078 4.23270065 5.18616052\n",
      " 6.13962039 7.09308026 8.04654013 9.        ]\n"
     ]
    }
   ],
   "source": [
    "\n",
    "\n",
    "def sample_path_equidistant(X, Y, num_samples):\n",
    "    total_distance = np.cumsum(np.sqrt(np.diff(X)**2 + np.diff(Y)**2))\n",
    "    total_distance = np.insert(total_distance, 0, 0) \n",
    "    total_distance /= total_distance[-1]\n",
    "\n",
    "    equidistant_samples = np.linspace(0, 1, num_samples)\n",
    "\n",
    "    X_sampled = np.interp(equidistant_samples, total_distance, X)\n",
    "    Y_sampled = np.interp(equidistant_samples, total_distance, Y)\n",
    "\n",
    "    return X_sampled, Y_sampled\n",
    "\n",
    "X = np.array([0, 1, 3, 6, 8])\n",
    "Y = np.array([0, 2, 4, 7, 9])\n",
    "\n",
    "num_samples = 10\n",
    "X_sampled, Y_sampled = sample_path_equidistant(X, Y, num_samples)\n",
    "print(\"Sampled X:\", X_sampled)\n",
    "print(\"Sampled Y:\", Y_sampled)\n"
   ]
  },
  {
   "cell_type": "markdown",
   "metadata": {},
   "source": [
    "#### 99. Given an integer n and a 2D array X, select from X the rows which can be interpreted as draws from a multinomial distribution with n degrees, i.e., the rows which only contain integers and which sum to n. (★★★)"
   ]
  },
  {
   "cell_type": "code",
   "execution_count": 144,
   "metadata": {},
   "outputs": [
    {
     "name": "stdout",
     "output_type": "stream",
     "text": [
      "Selected Rows:\n",
      "[[ 1  2  7]\n",
      " [ 3  4  3]\n",
      " [ 0 10  0]\n",
      " [ 5  3  2]\n",
      " [ 6  1  3]]\n"
     ]
    }
   ],
   "source": [
    "import numpy as np\n",
    "\n",
    "def select_multinomial_rows(X, n):\n",
    "    is_integer = np.all(X.astype(int) == X, axis=1)\n",
    "    is_sum_n = np.sum(X, axis=1) == n\n",
    "\n",
    "    selected_rows = X[is_integer & is_sum_n]\n",
    "\n",
    "    return selected_rows\n",
    "\n",
    "n = 10\n",
    "X = np.array([[1, 2, 7],\n",
    "              [3, 4, 3],\n",
    "              [0, 10, 0],\n",
    "              [5, 3, 2],\n",
    "              [6, 1, 3]])\n",
    "\n",
    "selected_rows = select_multinomial_rows(X, n)\n",
    "print(\"Selected Rows:\")\n",
    "print(selected_rows)\n"
   ]
  },
  {
   "cell_type": "markdown",
   "metadata": {},
   "source": [
    "#### 100. Compute bootstrapped 95% confidence intervals for the mean of a 1D array X (i.e., resample the elements of an array with replacement N times, compute the mean of each sample, and then compute percentiles over the means). (★★★)"
   ]
  },
  {
   "cell_type": "code",
   "execution_count": 146,
   "metadata": {},
   "outputs": [
    {
     "name": "stdout",
     "output_type": "stream",
     "text": [
      "Bootstrapped 95% Confidence Intervals:\n",
      "Lower: 15.795000000000002\n",
      "Upper: 22.8\n"
     ]
    }
   ],
   "source": [
    "\n",
    "def bootstrap_confidence_intervals(X, num_samples, alpha=0.05):\n",
    "    # Number of elements in the original array\n",
    "    N = len(X)\n",
    "\n",
    "    # Create an array to store the means of each bootstrap sample\n",
    "    means = np.empty(num_samples)\n",
    "\n",
    "    # Perform bootstrapping\n",
    "    for i in range(num_samples):\n",
    "        # Randomly sample indices with replacement\n",
    "        indices = np.random.randint(0, N, N)\n",
    "\n",
    "        # Get the bootstrap sample using the sampled indices\n",
    "        bootstrap_sample = X[indices]\n",
    "\n",
    "        # Calculate the mean of the bootstrap sample\n",
    "        means[i] = np.mean(bootstrap_sample)\n",
    "\n",
    "    # Calculate the lower and upper percentiles for the confidence intervals\n",
    "    lower_percentile = (alpha / 2) * 100\n",
    "    upper_percentile = (1 - alpha / 2) * 100\n",
    "\n",
    "    # Compute the confidence intervals\n",
    "    confidence_interval_lower = np.percentile(means, lower_percentile)\n",
    "    confidence_interval_upper = np.percentile(means, upper_percentile)\n",
    "\n",
    "    return confidence_interval_lower, confidence_interval_upper\n",
    "\n",
    "X = np.array([10, 12, 14, 16, 18, 20, 22, 24, 26, 28])\n",
    "\n",
    "num_samples = 1000\n",
    "alpha = 0.05\n",
    "\n",
    "lower, upper = bootstrap_confidence_intervals(X, num_samples, alpha)\n",
    "print(\"Bootstrapped 95% Confidence Intervals:\")\n",
    "print(\"Lower:\", lower)\n",
    "print(\"Upper:\", upper)\n"
   ]
  },
  {
   "cell_type": "code",
   "execution_count": null,
   "metadata": {},
   "outputs": [],
   "source": []
  }
 ],
 "metadata": {
  "kernelspec": {
   "display_name": "Python 3",
   "language": "python",
   "name": "python3"
  },
  "language_info": {
   "codemirror_mode": {
    "name": "ipython",
    "version": 3
   },
   "file_extension": ".py",
   "mimetype": "text/x-python",
   "name": "python",
   "nbconvert_exporter": "python",
   "pygments_lexer": "ipython3",
   "version": "3.10.10"
  }
 },
 "nbformat": 4,
 "nbformat_minor": 4
}
