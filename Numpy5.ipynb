{
 "cells": [
  {
   "cell_type": "markdown",
   "metadata": {},
   "source": [
    "# Numpy Exercise 5\n",
    "\n",
    "### All of the questions in this exercise are attributed to rougier/numpy-100"
   ]
  },
  {
   "cell_type": "code",
   "execution_count": 1,
   "metadata": {},
   "outputs": [],
   "source": [
    "import numpy as np"
   ]
  },
  {
   "cell_type": "markdown",
   "metadata": {},
   "source": [
    "#### 61. Find the nearest value from a given value in an array (★★☆)"
   ]
  },
  {
   "cell_type": "code",
   "execution_count": 24,
   "metadata": {},
   "outputs": [
    {
     "name": "stdout",
     "output_type": "stream",
     "text": [
      "The nearest value to 7 in the array is: 5\n"
     ]
    }
   ],
   "source": [
    "\n",
    "\n",
    "def nearest_value(given_value, array):\n",
    "    array = np.array(array)\n",
    "    idx = (np.abs(array - given_value)).argmin()\n",
    "    value = array[idx]\n",
    "    return value\n",
    "\n",
    "given_value = 7\n",
    "array = [3, 5, 10, 13, 19]\n",
    "myValue = nearest_value(given_value, array)\n",
    "print(\"The nearest value to\", given_value, \"in the array is:\", myValue)\n"
   ]
  },
  {
   "cell_type": "markdown",
   "metadata": {},
   "source": [
    "#### 62. Considering two arrays with shape (1,3) and (3,1), how to compute their sum using an iterator? (★★☆)"
   ]
  },
  {
   "cell_type": "code",
   "execution_count": 13,
   "metadata": {},
   "outputs": [
    {
     "name": "stdout",
     "output_type": "stream",
     "text": [
      "Sum of the two arrays: [15 30 45]\n"
     ]
    }
   ],
   "source": [
    "def sum_with_iterator(array1, array2):\n",
    "    if array1.shape != (1, 3) or array2.shape != (3, 1):\n",
    "        raise ValueError(\"Input arrays must have shapes (1, 3) and (3, 1) respectively.\")\n",
    "    \n",
    "    result = 0\n",
    "    for row in array1:\n",
    "        for col in array2:\n",
    "            result += row * col\n",
    "\n",
    "    return result\n",
    "\n",
    "\n",
    "array1 = np.array([[1, 2, 3]])\n",
    "array2 = np.array([[4], [5], [6]])\n",
    "sum_result = sum_with_iterator(array1, array2)\n",
    "print(\"Sum of the two arrays:\", sum_result)"
   ]
  },
  {
   "cell_type": "markdown",
   "metadata": {},
   "source": [
    "#### 63. Create an array class that has a name attribute (★★☆)"
   ]
  },
  {
   "cell_type": "code",
   "execution_count": 31,
   "metadata": {},
   "outputs": [
    {
     "name": "stdout",
     "output_type": "stream",
     "text": [
      "[1 2 3 4 5]\n",
      "Name of the array: Array Name\n"
     ]
    }
   ],
   "source": [
    "\n",
    "\n",
    "class NamedArray(np.ndarray):\n",
    "    def __new__(cls, input_array, name=None):\n",
    "        obj = np.asarray(input_array).view(cls)\n",
    "        obj.name = name\n",
    "        return obj\n",
    "\n",
    "\n",
    "data = [1, 2, 3, 4, 5]\n",
    "name = \"Array Name\"\n",
    "my_array = NamedArray(data, name=name)\n",
    "\n",
    "print(my_array)\n",
    "print(\"Name of the array:\", my_array.name)\n"
   ]
  },
  {
   "cell_type": "markdown",
   "metadata": {},
   "source": [
    "#### 64. Consider a given vector, how to add 1 to each element indexed by a second vector (be careful with repeated indices)? (★★★)"
   ]
  },
  {
   "cell_type": "code",
   "execution_count": 32,
   "metadata": {},
   "outputs": [
    {
     "name": "stdout",
     "output_type": "stream",
     "text": [
      "Original Vector: [10 20 30 40 50]\n",
      "Result Vector: [11 21 30 42 51]\n"
     ]
    }
   ],
   "source": [
    "\n",
    "def add_one_at_indices(original_vector, indices_to_add_one):\n",
    "    unique_indices, counts = np.unique(indices_to_add_one, return_counts=True)\n",
    "\n",
    "    result_vector = np.copy(original_vector)\n",
    "    result_vector[unique_indices] += counts\n",
    "\n",
    "    return result_vector\n",
    "\n",
    "given_vector = np.array([10, 20, 30, 40, 50])\n",
    "indices_to_add_one = np.array([0, 1, 3, 3, 4])\n",
    "\n",
    "result_vector = add_one_at_indices(given_vector, indices_to_add_one)\n",
    "print(\"Original Vector:\", given_vector)\n",
    "print(\"Result Vector:\", result_vector)\n"
   ]
  },
  {
   "cell_type": "markdown",
   "metadata": {},
   "source": [
    "#### 65. How to accumulate elements of a vector (X) to an array (F) based on an index list (I)? (★★★)"
   ]
  },
  {
   "cell_type": "code",
   "execution_count": 33,
   "metadata": {},
   "outputs": [
    {
     "name": "stdout",
     "output_type": "stream",
     "text": [
      "X: [1 2 3 4 5]\n",
      "F: [1 2 0 7 5]\n"
     ]
    }
   ],
   "source": [
    "\n",
    "\n",
    "def accumulate_by_indices(X, I, F):\n",
    "    np.add.at(F, I, X)\n",
    "\n",
    "X = np.array([1, 2, 3, 4, 5])\n",
    "I = np.array([0, 1, 3, 3, 4])\n",
    "F = np.zeros(5, dtype=np.int32)\n",
    "\n",
    "accumulate_by_indices(X, I, F)\n",
    "\n",
    "print(\"X:\", X)\n",
    "print(\"F:\", F)\n"
   ]
  },
  {
   "cell_type": "markdown",
   "metadata": {},
   "source": [
    "#### 66. Considering a (w,h,3) image of (dtype=ubyte), compute the number of unique colors (★★☆)"
   ]
  },
  {
   "cell_type": "code",
   "execution_count": 45,
   "metadata": {},
   "outputs": [
    {
     "name": "stdout",
     "output_type": "stream",
     "text": [
      "Number of unique colors in the image: 241\n"
     ]
    }
   ],
   "source": [
    "def count_unique_colors(image):\n",
    "\n",
    "\n",
    "  flattened_image = image.reshape(-1, 3)\n",
    "  unique_colors = np.unique(flattened_image)\n",
    "  return len(unique_colors)\n",
    "\n",
    "if __name__ == \"__main__\":\n",
    "  image = np.random.randint(0, 255, (16, 16, 3)).astype(np.ubyte)\n",
    "  number_of_unique_colors = count_unique_colors(image)\n",
    "  print(\"Number of unique colors in the image:\", number_of_unique_colors)"
   ]
  },
  {
   "cell_type": "markdown",
   "metadata": {},
   "source": [
    "#### 67. Considering a four dimensions array, how to get sum over the last two axis at once? (★★★)"
   ]
  },
  {
   "cell_type": "code",
   "execution_count": 46,
   "metadata": {},
   "outputs": [
    {
     "name": "stdout",
     "output_type": "stream",
     "text": [
      "Sum of array:  [[6915 8632 7283 8403 8512 8063 8547 9027 7566 8019 8584 7391 8064 8768\n",
      "  7969 8512]\n",
      " [8343 8062 8571 7523 7918 8127 7875 8474 8356 7380 7967 8101 8496 8242\n",
      "  7869 7691]\n",
      " [8276 6912 8679 8550 7972 6963 8596 8254 8749 7227 8316 8547 7969 9129\n",
      "  8129 8324]\n",
      " [8493 7441 8835 7612 8003 7128 7588 8635 8434 8609 7430 8650 7200 8379\n",
      "  8741 7817]\n",
      " [8198 8789 8501 8113 7981 8486 8028 7641 8876 7891 8480 8198 8360 7811\n",
      "  6789 8324]\n",
      " [8709 7899 8433 7213 8601 9006 8541 8361 8543 7034 7837 7967 7844 8737\n",
      "  7743 7323]\n",
      " [8598 8733 7558 8947 8222 6443 8245 7602 7834 8554 8213 8104 7990 9646\n",
      "  8326 8107]\n",
      " [6740 8625 9110 8010 8447 7843 7979 8132 8301 8751 8136 8617 7862 8753\n",
      "  7548 9724]\n",
      " [7682 8212 7563 8166 9143 8174 8290 8419 8749 8684 8245 7021 8146 8143\n",
      "  9080 8500]\n",
      " [8774 8482 8416 8187 7883 8385 7892 8126 9067 8620 7725 8715 7016 8340\n",
      "  8204 7694]\n",
      " [7969 8396 9080 8095 8512 7811 9529 9067 7943 8736 8247 8240 8170 8051\n",
      "  8167 7906]\n",
      " [7190 8654 8922 8107 7932 8679 8404 7646 7965 8229 7371 7678 8430 8058\n",
      "  8417 7011]\n",
      " [9334 7561 8886 6810 7814 7770 7324 7956 8016 8459 8751 8545 8250 8084\n",
      "  7762 7713]\n",
      " [9237 8902 8693 8292 9472 8445 8889 8077 7744 7640 8215 7950 8222 8278\n",
      "  8230 8337]\n",
      " [8870 7297 8417 8410 8715 8069 8113 8017 7311 8562 8350 7904 8209 7743\n",
      "  8107 7987]\n",
      " [7065 8283 8872 8154 8654 8340 8829 9435 8486 7693 8132 8026 8555 8011\n",
      "  7999 8023]]\n"
     ]
    }
   ],
   "source": [
    "def sum_last_two_axis(array):\n",
    "\n",
    "  return np.sum(array, axis=(2, 3))\n",
    "\n",
    "if __name__ == \"__main__\":\n",
    "  array = np.random.randint(0, 255, (16, 16, 8, 8))\n",
    "  summed_array = sum_last_two_axis(array)\n",
    "  print('Sum of array: ', summed_array)"
   ]
  },
  {
   "cell_type": "markdown",
   "metadata": {},
   "source": [
    "#### 68. Considering a one-dimensional vector D, how to compute means of subsets of D using a vector S of same size describing subset  indices? (★★★)"
   ]
  },
  {
   "cell_type": "code",
   "execution_count": 48,
   "metadata": {},
   "outputs": [
    {
     "name": "stdout",
     "output_type": "stream",
     "text": [
      "Subset means: [2.  5.  8.5]\n"
     ]
    }
   ],
   "source": [
    "def compute_subset_means(D, S):\n",
    "    unique_indices = np.unique(S)\n",
    "    subset_sums = np.bincount(S, weights=D)\n",
    "    subset_counts = np.bincount(S)\n",
    "    subset_means = subset_sums / subset_counts\n",
    "    return subset_means[unique_indices]\n",
    "\n",
    "D = np.array([1, 2, 3, 4, 5, 6, 7, 8, 9, 10])\n",
    "S = np.array([0, 0, 0, 1, 1, 1, 2, 2, 2, 2])\n",
    "\n",
    "subset_means = compute_subset_means(D, S)\n",
    "print(\"Subset means:\", subset_means)"
   ]
  },
  {
   "cell_type": "markdown",
   "metadata": {},
   "source": [
    "#### 69. How to get the diagonal of a dot product? (★★★)"
   ]
  },
  {
   "cell_type": "code",
   "execution_count": 56,
   "metadata": {},
   "outputs": [
    {
     "name": "stdout",
     "output_type": "stream",
     "text": [
      "Diagonal of the dot product: [ 58 154]\n"
     ]
    }
   ],
   "source": [
    "def get_diagonal_dot_product(matrix1, matrix2):\n",
    "    dot_product_matrix = np.dot(matrix1, matrix2)\n",
    "    diagonal = np.diagonal(dot_product_matrix)\n",
    "    return diagonal\n",
    "\n",
    "\n",
    "matrix1 = np.array([[1, 2, 3], [4, 5, 6]])\n",
    "matrix2 = np.array([[7, 8], [9, 10], [11, 12]])\n",
    "\n",
    "diagonal_dot_product = get_diagonal_dot_product(matrix1, matrix2)\n",
    "print(\"Diagonal of the dot product:\", diagonal_dot_product)"
   ]
  },
  {
   "cell_type": "markdown",
   "metadata": {},
   "source": [
    "#### 70. Consider the vector [1, 2, 3, 4, 5], how to build a new vector with 3 consecutive zeros interleaved between each value? (★★★)"
   ]
  },
  {
   "cell_type": "code",
   "execution_count": 64,
   "metadata": {},
   "outputs": [
    {
     "name": "stdout",
     "output_type": "stream",
     "text": [
      "[1. 0. 0. 0. 2. 0. 0. 0. 3. 0. 0. 0. 4. 0. 0. 0. 5. 0. 0. 0. 6. 0. 0. 0.\n",
      " 7. 0. 0. 0. 0. 0. 0. 0. 0. 0. 0. 0. 0. 0. 0. 0. 0. 0.]\n"
     ]
    }
   ],
   "source": [
    "import numpy as np\n",
    "\n",
    "def interleave_zeros(vector):\n",
    " \n",
    "  new_vector = np.zeros(len(vector) * 6)\n",
    "  index = 0\n",
    "  for value in vector:\n",
    "    new_vector[index] = value\n",
    "    index += 1\n",
    "    for _ in range(3):\n",
    "      new_vector[index] = 0\n",
    "      index += 1\n",
    "  return new_vector\n",
    "\n",
    "if __name__ == \"__main__\":\n",
    "  vector = np.array([1, 2, 3, 4, 5, 6, 7])\n",
    "  new_vector = interleave_zeros(vector)\n",
    "  print(new_vector)\n"
   ]
  },
  {
   "cell_type": "markdown",
   "metadata": {},
   "source": [
    "#### 71. Consider an array of dimension (5,5,3), how to mulitply it by an array with dimensions (5,5)? (★★★)"
   ]
  },
  {
   "cell_type": "code",
   "execution_count": 65,
   "metadata": {},
   "outputs": [
    {
     "name": "stdout",
     "output_type": "stream",
     "text": [
      "[[ 45.  36. 102. 100.  18.]\n",
      " [ 18. 136.  91.  78.  38.]\n",
      " [ 10. 108.  18. 104.  18.]\n",
      " [  0.  99.  40.  85.  90.]\n",
      " [ 17. 120. 133.  12. 114.]]\n"
     ]
    }
   ],
   "source": [
    "\n",
    "\n",
    "def multiply_arrays(array1, array2):\n",
    " \n",
    "  new_array = np.zeros((5, 5))\n",
    "  for i in range(5):\n",
    "    for j in range(5):\n",
    "      for k in range(3):\n",
    "        new_array[i, j] += array1[i, j, k] * array2[i, j]\n",
    "  return new_array\n",
    "\n",
    "if __name__ == \"__main__\":\n",
    "  array1 = np.random.randint(0, 10, (5, 5, 3))\n",
    "  array2 = np.random.randint(0, 10, (5, 5))\n",
    "  new_array = multiply_arrays(array1, array2)\n",
    "  print(new_array)\n"
   ]
  },
  {
   "cell_type": "markdown",
   "metadata": {},
   "source": [
    "#### 72. How to swap two rows of an array? (★★★)"
   ]
  },
  {
   "cell_type": "code",
   "execution_count": 66,
   "metadata": {},
   "outputs": [
    {
     "name": "stdout",
     "output_type": "stream",
     "text": [
      "[[7 8 9]\n",
      " [4 5 6]\n",
      " [7 8 9]]\n"
     ]
    }
   ],
   "source": [
    "def swap_rows(array, row1, row2):\n",
    "\n",
    "  temp = array[row1, :]\n",
    "  array[row1, :] = array[row2, :]\n",
    "  array[row2, :] = temp\n",
    "  return array\n",
    "\n",
    "if __name__ == \"__main__\":\n",
    "  array = np.array([[1, 2, 3], [4, 5, 6], [7, 8, 9]])\n",
    "  new_array = swap_rows(array, 0, 2)\n",
    "  print(new_array)"
   ]
  },
  {
   "cell_type": "markdown",
   "metadata": {},
   "source": [
    "#### 73. Consider a set of 10 triplets describing 10 triangles (with shared vertices), find the set of unique line segments composing all the  triangles (★★★)"
   ]
  },
  {
   "cell_type": "code",
   "execution_count": 67,
   "metadata": {},
   "outputs": [
    {
     "name": "stdout",
     "output_type": "stream",
     "text": [
      "{(0, 1), (1, 2), (3, 1), (0, 3), (2, 0), (3, 0), (2, 3), (0, 2), (3, 2), (1, 3)}\n"
     ]
    }
   ],
   "source": [
    "def find_unique_line_segments(triangles):\n",
    "  \n",
    "  line_segments = set()\n",
    "  for triangle in triangles:\n",
    "    for i in range(3):\n",
    "      for j in range(i + 1, 3):\n",
    "        line_segments.add((triangle[i], triangle[j]))\n",
    "  return line_segments\n",
    "\n",
    "if __name__ == \"__main__\":\n",
    "  triangles = [[0, 1, 2], [0, 2, 3], [1, 2, 3], [0, 3, 1], [1, 3, 2], [2, 3, 0]]\n",
    "  unique_line_segments = find_unique_line_segments(triangles)\n",
    "  print(unique_line_segments)\n"
   ]
  },
  {
   "cell_type": "markdown",
   "metadata": {},
   "source": [
    "#### 74. Given a sorted array C that corresponds to a bincount, how to produce an array A such that np.bincount(A) == C? (★★★)"
   ]
  },
  {
   "cell_type": "code",
   "execution_count": null,
   "metadata": {},
   "outputs": [],
   "source": []
  },
  {
   "cell_type": "markdown",
   "metadata": {},
   "source": [
    "#### 75. How to compute averages using a sliding window over an array? (★★★)"
   ]
  },
  {
   "cell_type": "code",
   "execution_count": null,
   "metadata": {},
   "outputs": [],
   "source": []
  },
  {
   "cell_type": "markdown",
   "metadata": {},
   "source": [
    "#### 76. Consider a one-dimensional array Z, build a two-dimensional array whose first row is (Z[0],Z[1],Z[2]) and each subsequent row is  shifted by 1 (last row should be (Z[-3],Z[-2],Z[-1]) (★★★)"
   ]
  },
  {
   "cell_type": "code",
   "execution_count": null,
   "metadata": {},
   "outputs": [],
   "source": []
  },
  {
   "cell_type": "markdown",
   "metadata": {},
   "source": [
    "#### 77. How to negate a boolean, or to change the sign of a float inplace? (★★★)"
   ]
  },
  {
   "cell_type": "code",
   "execution_count": null,
   "metadata": {},
   "outputs": [],
   "source": []
  },
  {
   "cell_type": "markdown",
   "metadata": {},
   "source": [
    "#### 78. Consider 2 sets of points P0,P1 describing lines (2d) and a point p, how to compute distance from p to each line i (P0[i],P1[i])? (★★★)"
   ]
  },
  {
   "cell_type": "code",
   "execution_count": null,
   "metadata": {},
   "outputs": [],
   "source": []
  },
  {
   "cell_type": "markdown",
   "metadata": {},
   "source": [
    "#### 79. Consider 2 sets of points P0,P1 describing lines (2d) and a set of points P, how to compute distance from each point j (P[j]) to each line i (P0[i],P1[i])? (★★★)"
   ]
  },
  {
   "cell_type": "code",
   "execution_count": null,
   "metadata": {},
   "outputs": [],
   "source": []
  },
  {
   "cell_type": "markdown",
   "metadata": {},
   "source": [
    "#### 80. Consider an arbitrary array, write a function that extract a subpart with a fixed shape and centered on a given element (pad with a `fill` value when necessary) (★★★)"
   ]
  },
  {
   "cell_type": "code",
   "execution_count": null,
   "metadata": {},
   "outputs": [],
   "source": []
  },
  {
   "cell_type": "markdown",
   "metadata": {},
   "source": [
    "#### 81. Consider an array Z = [1,2,3,4,5,6,7,8,9,10,11,12,13,14], how to generate an array R = [[1,2,3,4], [2,3,4,5], [3,4,5,6], ..., [11,12,13,14]]? (★★★)"
   ]
  },
  {
   "cell_type": "code",
   "execution_count": null,
   "metadata": {},
   "outputs": [],
   "source": []
  },
  {
   "cell_type": "markdown",
   "metadata": {},
   "source": [
    "#### 82. Compute a matrix rank (★★★)"
   ]
  },
  {
   "cell_type": "code",
   "execution_count": null,
   "metadata": {},
   "outputs": [],
   "source": []
  },
  {
   "cell_type": "markdown",
   "metadata": {},
   "source": [
    "#### 83. How to find the most frequent value in an array?"
   ]
  },
  {
   "cell_type": "code",
   "execution_count": null,
   "metadata": {},
   "outputs": [],
   "source": []
  },
  {
   "cell_type": "markdown",
   "metadata": {},
   "source": [
    "#### 84. Extract all the contiguous 3x3 blocks from a random 10x10 matrix (★★★)"
   ]
  },
  {
   "cell_type": "code",
   "execution_count": null,
   "metadata": {},
   "outputs": [],
   "source": []
  },
  {
   "cell_type": "markdown",
   "metadata": {},
   "source": [
    "#### 85. Create a 2D array subclass such that Z[i,j] == Z[j,i] (★★★)"
   ]
  },
  {
   "cell_type": "code",
   "execution_count": null,
   "metadata": {},
   "outputs": [],
   "source": []
  },
  {
   "cell_type": "markdown",
   "metadata": {},
   "source": [
    "#### 86. Consider a set of p matrices wich shape (n,n) and a set of p vectors with shape (n,1). How to compute the sum of of the p matrix products at once? (result has shape (n,1)) (★★★)"
   ]
  },
  {
   "cell_type": "code",
   "execution_count": null,
   "metadata": {},
   "outputs": [],
   "source": []
  },
  {
   "cell_type": "markdown",
   "metadata": {},
   "source": [
    "#### 87. Consider a 16x16 array, how to get the block-sum (block size is 4x4)? (★★★)"
   ]
  },
  {
   "cell_type": "code",
   "execution_count": null,
   "metadata": {},
   "outputs": [],
   "source": []
  },
  {
   "cell_type": "markdown",
   "metadata": {},
   "source": [
    "#### 88. How to implement the Game of Life using numpy arrays? (★★★)"
   ]
  },
  {
   "cell_type": "code",
   "execution_count": null,
   "metadata": {},
   "outputs": [],
   "source": []
  },
  {
   "cell_type": "markdown",
   "metadata": {},
   "source": [
    "#### 89. How to get the n largest values of an array (★★★)"
   ]
  },
  {
   "cell_type": "code",
   "execution_count": null,
   "metadata": {},
   "outputs": [],
   "source": []
  },
  {
   "cell_type": "markdown",
   "metadata": {},
   "source": [
    "#### 90. Given an arbitrary number of vectors, build the cartesian product (every combinations of every item) (★★★)"
   ]
  },
  {
   "cell_type": "code",
   "execution_count": null,
   "metadata": {},
   "outputs": [],
   "source": []
  },
  {
   "cell_type": "markdown",
   "metadata": {},
   "source": [
    "#### 91. How to create a record array from a regular array? (★★★)"
   ]
  },
  {
   "cell_type": "code",
   "execution_count": null,
   "metadata": {},
   "outputs": [],
   "source": []
  },
  {
   "cell_type": "markdown",
   "metadata": {},
   "source": [
    "#### 92. Consider a large vector Z, compute Z to the power of 3 using 3 different methods (★★★)"
   ]
  },
  {
   "cell_type": "code",
   "execution_count": null,
   "metadata": {},
   "outputs": [],
   "source": []
  },
  {
   "cell_type": "markdown",
   "metadata": {},
   "source": [
    "#### 93. Consider two arrays A and B of shape (8,3) and (2,2). How to find rows of A that contain elements of each row of B regardless of the order of the elements in B? (★★★)"
   ]
  },
  {
   "cell_type": "code",
   "execution_count": null,
   "metadata": {},
   "outputs": [],
   "source": []
  },
  {
   "cell_type": "markdown",
   "metadata": {},
   "source": [
    "#### 94. Considering a 10x3 matrix, extract rows with unequal values (e.g. [2,2,3]) (★★★)"
   ]
  },
  {
   "cell_type": "code",
   "execution_count": null,
   "metadata": {},
   "outputs": [],
   "source": []
  },
  {
   "cell_type": "markdown",
   "metadata": {},
   "source": [
    "#### 95. Convert a vector of ints into a matrix binary representation (★★★)"
   ]
  },
  {
   "cell_type": "code",
   "execution_count": null,
   "metadata": {},
   "outputs": [],
   "source": []
  },
  {
   "cell_type": "markdown",
   "metadata": {},
   "source": [
    "#### 96. Given a two dimensional array, how to extract unique rows? (★★★)"
   ]
  },
  {
   "cell_type": "code",
   "execution_count": null,
   "metadata": {},
   "outputs": [],
   "source": []
  },
  {
   "cell_type": "markdown",
   "metadata": {},
   "source": [
    "#### 97. Considering 2 vectors A & B, write the einsum equivalent of inner, outer, sum, and mul function (★★★)"
   ]
  },
  {
   "cell_type": "code",
   "execution_count": null,
   "metadata": {},
   "outputs": [],
   "source": []
  },
  {
   "cell_type": "markdown",
   "metadata": {},
   "source": [
    "#### 98. Considering a path described by two vectors (X,Y), how to sample it using equidistant samples (★★★)?"
   ]
  },
  {
   "cell_type": "code",
   "execution_count": null,
   "metadata": {},
   "outputs": [],
   "source": []
  },
  {
   "cell_type": "markdown",
   "metadata": {},
   "source": [
    "#### 99. Given an integer n and a 2D array X, select from X the rows which can be interpreted as draws from a multinomial distribution with n degrees, i.e., the rows which only contain integers and which sum to n. (★★★)"
   ]
  },
  {
   "cell_type": "code",
   "execution_count": null,
   "metadata": {},
   "outputs": [],
   "source": []
  },
  {
   "cell_type": "markdown",
   "metadata": {},
   "source": [
    "#### 100. Compute bootstrapped 95% confidence intervals for the mean of a 1D array X (i.e., resample the elements of an array with replacement N times, compute the mean of each sample, and then compute percentiles over the means). (★★★)"
   ]
  },
  {
   "cell_type": "code",
   "execution_count": null,
   "metadata": {},
   "outputs": [],
   "source": []
  },
  {
   "cell_type": "code",
   "execution_count": null,
   "metadata": {},
   "outputs": [],
   "source": []
  }
 ],
 "metadata": {
  "kernelspec": {
   "display_name": "Python 3",
   "language": "python",
   "name": "python3"
  },
  "language_info": {
   "codemirror_mode": {
    "name": "ipython",
    "version": 3
   },
   "file_extension": ".py",
   "mimetype": "text/x-python",
   "name": "python",
   "nbconvert_exporter": "python",
   "pygments_lexer": "ipython3",
   "version": "3.10.10"
  }
 },
 "nbformat": 4,
 "nbformat_minor": 4
}
